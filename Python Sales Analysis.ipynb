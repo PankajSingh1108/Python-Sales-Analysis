{
  "nbformat": 4,
  "nbformat_minor": 0,
  "metadata": {
    "colab": {
      "name": "Project3.ipynb",
      "provenance": [],
      "collapsed_sections": []
    },
    "kernelspec": {
      "name": "python3",
      "display_name": "Python 3"
    },
    "language_info": {
      "name": "python"
    }
  },
  "cells": [
    {
      "cell_type": "code",
      "metadata": {
        "id": "kyaBG8g5LpiS"
      },
      "source": [
        "from google.colab import drive\n",
        "drive.mount('/content/drive')"
      ],
      "execution_count": null,
      "outputs": []
    },
    {
      "cell_type": "markdown",
      "metadata": {
        "id": "akzpIBPrMS4W"
      },
      "source": [
        "**Import Necessary Libraries**"
      ]
    },
    {
      "cell_type": "code",
      "metadata": {
        "id": "K6E4-31sMQjP"
      },
      "source": [
        "import pandas as pd\n",
        "import os\n",
        "import numpy as np\n",
        "import matplotlib.pyplot as plt\n"
      ],
      "execution_count": null,
      "outputs": []
    },
    {
      "cell_type": "markdown",
      "metadata": {
        "id": "Tsesc-YUMlRA"
      },
      "source": [
        "**Task #1: Merge the 12 months sales data inta a single CSV file**"
      ]
    },
    {
      "cell_type": "code",
      "metadata": {
        "id": "oIiW-Zy0Mkcp"
      },
      "source": [
        "### read any one file from Sales_data\n",
        "df = pd.read_csv(\"/content/drive/MyDrive/Sales_Data/Sales_April_2019.csv\")\n",
        "df.head()"
      ],
      "execution_count": null,
      "outputs": []
    },
    {
      "cell_type": "code",
      "metadata": {
        "id": "loOuNF0juDGT"
      },
      "source": [
        "### merging the 12 months sales data into sinle one, called \"all_months_data\"\n",
        "files = [file for file in os.listdir('/content/drive/MyDrive/Sales_Data/')]\n",
        "\n",
        "all_data = pd.DataFrame()\n",
        "\n",
        "for file in files:\n",
        "  df = pd.read_csv('/content/drive/MyDrive/Sales_Data/'+file)\n",
        "  all_data = pd.concat([all_data,df])\n",
        "\n",
        "all_data.head()"
      ],
      "execution_count": null,
      "outputs": []
    },
    {
      "cell_type": "code",
      "metadata": {
        "id": "ORm1CkTzZ-qN"
      },
      "source": [
        "all_data.shape"
      ],
      "execution_count": null,
      "outputs": []
    },
    {
      "cell_type": "code",
      "metadata": {
        "id": "0ZLJ6Zelclpq"
      },
      "source": [
        "all_data.tail()"
      ],
      "execution_count": null,
      "outputs": []
    },
    {
      "cell_type": "markdown",
      "metadata": {
        "id": "i7XD8ImG0snL"
      },
      "source": [
        "**Clean up the data!**"
      ]
    },
    {
      "cell_type": "markdown",
      "metadata": {
        "id": "VXr6kFKR3arK"
      },
      "source": [
        "Drop the NaN"
      ]
    },
    {
      "cell_type": "code",
      "metadata": {
        "id": "IfkSoDRM01cR"
      },
      "source": [
        "# To chech whether NaN is available in Order Date or not\n",
        "all_data['Order Date'].isnull().values.any()"
      ],
      "execution_count": null,
      "outputs": []
    },
    {
      "cell_type": "code",
      "metadata": {
        "id": "45S-trgr3RGm"
      },
      "source": [
        "#If above answer is True, Count the NaN values\n",
        "all_data['Order Date'].isnull().sum()"
      ],
      "execution_count": null,
      "outputs": []
    },
    {
      "cell_type": "code",
      "metadata": {
        "id": "7D-7Yxuj4Wai"
      },
      "source": [
        "# To chech whether NaN is available in all columns or not\n",
        "NaN_df = all_data[all_data.isna().any(axis=1)]\n",
        "NaN_df.head()\n"
      ],
      "execution_count": null,
      "outputs": []
    },
    {
      "cell_type": "code",
      "metadata": {
        "id": "DtF1rzvn8kUy"
      },
      "source": [
        "# Drop rows of NaN \n",
        "\n",
        "all_data = all_data.dropna(how='all')\n",
        "all_data.head()"
      ],
      "execution_count": null,
      "outputs": []
    },
    {
      "cell_type": "markdown",
      "metadata": {
        "id": "6b8abNE19g1v"
      },
      "source": [
        "Find 'Or' and delete it"
      ]
    },
    {
      "cell_type": "code",
      "metadata": {
        "id": "hhMbbELd9gVS"
      },
      "source": [
        "temp_df = all_data[all_data['Order Date'].str[0:2] == 'Or']\n",
        "temp_df.head()"
      ],
      "execution_count": null,
      "outputs": []
    },
    {
      "cell_type": "code",
      "metadata": {
        "id": "kNoR2TOD-nM5"
      },
      "source": [
        "all_data = all_data[all_data['Order Date'].str[0:2] != 'Or']\n",
        "all_data"
      ],
      "execution_count": null,
      "outputs": []
    },
    {
      "cell_type": "markdown",
      "metadata": {
        "id": "cZ2PYgzSG26G"
      },
      "source": [
        "Convert columns to the correct type"
      ]
    },
    {
      "cell_type": "code",
      "metadata": {
        "id": "w7N4TPQLGqhg"
      },
      "source": [
        "all_data['Quantity Ordered'] = pd.to_numeric(all_data['Quantity Ordered'])  # make integer\n",
        "all_data['Price Each'] = pd.to_numeric(all_data['Price Each'])  #make float\n",
        "\n",
        "all_data.head()"
      ],
      "execution_count": null,
      "outputs": []
    },
    {
      "cell_type": "markdown",
      "metadata": {
        "id": "TQeL9vw2WSlv"
      },
      "source": [
        "**Augment data with additional columns**"
      ]
    },
    {
      "cell_type": "code",
      "metadata": {
        "id": "br-wFWOwWKRN"
      },
      "source": [
        "all_data['Month'] = all_data['Order Date'].str[0:2]\n",
        "all_data['Month'] = all_data['Month'].astype('int32')\n",
        "all_data.head()"
      ],
      "execution_count": null,
      "outputs": []
    },
    {
      "cell_type": "markdown",
      "metadata": {
        "id": "cImDBXb3kBqI"
      },
      "source": [
        "**Task 2: Add a city column**"
      ]
    },
    {
      "cell_type": "code",
      "metadata": {
        "id": "ALNzE7i-Fb3R"
      },
      "source": [
        "temp = all_data['Purchase Address'].str.split(\",\", expand = True)\n",
        "temp.head()"
      ],
      "execution_count": null,
      "outputs": []
    },
    {
      "cell_type": "code",
      "metadata": {
        "id": "YNvilai1u7TB"
      },
      "source": [
        "city = temp[1]\n",
        "city.head()"
      ],
      "execution_count": null,
      "outputs": []
    },
    {
      "cell_type": "code",
      "metadata": {
        "id": "CU-kJI6Eq4Ge"
      },
      "source": [
        "state=temp[2].str.split(' ',expand=True)[1]\n",
        "state.head()"
      ],
      "execution_count": null,
      "outputs": []
    },
    {
      "cell_type": "code",
      "metadata": {
        "id": "y1jYCdQHrOFq"
      },
      "source": [
        "all_data['City']=city\n",
        "all_data['State']=state\n",
        "all_data.head()"
      ],
      "execution_count": null,
      "outputs": []
    },
    {
      "cell_type": "code",
      "metadata": {
        "id": "Y9VO_euxrUB3"
      },
      "source": [
        ""
      ],
      "execution_count": null,
      "outputs": []
    },
    {
      "cell_type": "markdown",
      "metadata": {
        "id": "SFZFQcOPVqwk"
      },
      "source": [
        "**Question 1:What was the best month for sales? How much was earned that month ?** "
      ]
    },
    {
      "cell_type": "code",
      "metadata": {
        "id": "dmJ_FOaQSJKG"
      },
      "source": [
        "all_data.dtypes"
      ],
      "execution_count": null,
      "outputs": []
    },
    {
      "cell_type": "code",
      "metadata": {
        "id": "7tsVrFj7WFHm"
      },
      "source": [
        "# Add a sales column\n",
        "all_data['Sales'] = all_data['Quantity Ordered'] * all_data['Price Each']\n",
        "all_data.tail()"
      ],
      "execution_count": null,
      "outputs": []
    },
    {
      "cell_type": "code",
      "metadata": {
        "id": "Bz1zKtAgyrRp"
      },
      "source": [
        "results = all_data.groupby('Month').sum().astype('int64')\n",
        "\n",
        "results.head(12)"
      ],
      "execution_count": null,
      "outputs": []
    },
    {
      "cell_type": "code",
      "metadata": {
        "id": "v-sFkDmgYrsh"
      },
      "source": [
        "months = range(1,13)\n",
        "\n",
        "plt.bar(months, results['Sales'])\n",
        "plt.xlabel(\"Month's Number\")\n",
        "plt.ylabel(\"Sales in USD ($)\")\n",
        "\n",
        "plt.show()"
      ],
      "execution_count": null,
      "outputs": []
    },
    {
      "cell_type": "markdown",
      "metadata": {
        "id": "453WXtdKjf4P"
      },
      "source": [
        "**Question 2: Which  city had the highest number of sales?**"
      ]
    },
    {
      "cell_type": "code",
      "metadata": {
        "id": "YFfQdakIuAjw"
      },
      "source": [
        "sales_per_city=all_data[['City','State','Sales']].groupby(['State','City']).sum().astype('int64')\n",
        "sales_per_city.head(100)"
      ],
      "execution_count": null,
      "outputs": []
    },
    {
      "cell_type": "code",
      "metadata": {
        "id": "cqD2r6SoH7dH"
      },
      "source": [
        "ax=sales_per_city.plot(figsize=(15,5),kind='bar',legend=False,ylabel='Sales in USD',title='city sold the most Product')\n",
        "for p in ax.patches:\n",
        "    ax.annotate(str(p.get_height()), (p.get_x() , p.get_height()*1.02 ))"
      ],
      "execution_count": null,
      "outputs": []
    },
    {
      "cell_type": "markdown",
      "metadata": {
        "id": "_Ag2fnrjK3QT"
      },
      "source": [
        "**Question 3: What time should we display advertisements to maximize likelihood of customer's buying product ?**"
      ]
    },
    {
      "cell_type": "code",
      "metadata": {
        "id": "jqyG1Nb_S35Y"
      },
      "source": [
        "all_data['Order Date'] = pd.to_datetime(all_data['Order Date'])\n",
        "all_data.head()"
      ],
      "execution_count": null,
      "outputs": []
    },
    {
      "cell_type": "code",
      "metadata": {
        "id": "_Kj96EoRTWRb"
      },
      "source": [
        "all_data['Hour'] = all_data['Order Date'].dt.hour\n",
        "all_data['Minute'] = all_data['Order Date'].dt.minute\n",
        "all_data.head()\n"
      ],
      "execution_count": null,
      "outputs": []
    },
    {
      "cell_type": "code",
      "metadata": {
        "id": "zV1CWsDTUIHa"
      },
      "source": [
        "hours = [hour for hour, df in all_data.groupby('Hour')]\n",
        "\n",
        "plt.plot(hours, all_data.groupby(['Hour']).count())\n",
        "plt.xticks(hours)\n",
        "plt.xlabel('Hour')\n",
        "plt.ylabel('Number of Orders')\n",
        "plt.grid()\n",
        "plt.show()\n",
        "\n",
        "## best time  for advertisments is around 11am or 7pm."
      ],
      "execution_count": null,
      "outputs": []
    },
    {
      "cell_type": "markdown",
      "metadata": {
        "id": "nqtEjoEkWRP7"
      },
      "source": [
        "**Question 4: What products are most often sold together ?**"
      ]
    },
    {
      "cell_type": "code",
      "metadata": {
        "colab": {
          "base_uri": "https://localhost:8080/",
          "height": 548
        },
        "id": "55Zp2eXmW8MK",
        "outputId": "0037bc91-b907-46ec-a71f-443f088f81ef"
      },
      "source": [
        "df = all_data[all_data['Order ID'].duplicated(keep = False)]\n",
        "\n",
        "df['Grouped'] = df.groupby('Order ID')['Product'].transform(lambda x: ','.join(x))\n",
        "\n",
        "df = df[['Order ID', 'Grouped']].drop_duplicates()\n",
        "\n",
        "df.head(100)"
      ],
      "execution_count": null,
      "outputs": [
        {
          "output_type": "stream",
          "name": "stderr",
          "text": [
            "/usr/local/lib/python3.7/dist-packages/ipykernel_launcher.py:3: SettingWithCopyWarning: \n",
            "A value is trying to be set on a copy of a slice from a DataFrame.\n",
            "Try using .loc[row_indexer,col_indexer] = value instead\n",
            "\n",
            "See the caveats in the documentation: https://pandas.pydata.org/pandas-docs/stable/user_guide/indexing.html#returning-a-view-versus-a-copy\n",
            "  This is separate from the ipykernel package so we can avoid doing imports until\n"
          ]
        },
        {
          "output_type": "execute_result",
          "data": {
            "text/html": [
              "<div>\n",
              "<style scoped>\n",
              "    .dataframe tbody tr th:only-of-type {\n",
              "        vertical-align: middle;\n",
              "    }\n",
              "\n",
              "    .dataframe tbody tr th {\n",
              "        vertical-align: top;\n",
              "    }\n",
              "\n",
              "    .dataframe thead th {\n",
              "        text-align: right;\n",
              "    }\n",
              "</style>\n",
              "<table border=\"1\" class=\"dataframe\">\n",
              "  <thead>\n",
              "    <tr style=\"text-align: right;\">\n",
              "      <th></th>\n",
              "      <th>Order ID</th>\n",
              "      <th>Grouped</th>\n",
              "    </tr>\n",
              "  </thead>\n",
              "  <tbody>\n",
              "    <tr>\n",
              "      <th>17</th>\n",
              "      <td>209938</td>\n",
              "      <td>iPhone,Wired Headphones</td>\n",
              "    </tr>\n",
              "    <tr>\n",
              "      <th>29</th>\n",
              "      <td>209949</td>\n",
              "      <td>Google Phone,USB-C Charging Cable</td>\n",
              "    </tr>\n",
              "    <tr>\n",
              "      <th>41</th>\n",
              "      <td>209960</td>\n",
              "      <td>USB-C Charging Cable,AA Batteries (4-pack)</td>\n",
              "    </tr>\n",
              "    <tr>\n",
              "      <th>43</th>\n",
              "      <td>209961</td>\n",
              "      <td>iPhone,Lightning Charging Cable</td>\n",
              "    </tr>\n",
              "    <tr>\n",
              "      <th>147</th>\n",
              "      <td>210064</td>\n",
              "      <td>Lightning Charging Cable,27in FHD Monitor</td>\n",
              "    </tr>\n",
              "    <tr>\n",
              "      <th>...</th>\n",
              "      <td>...</td>\n",
              "      <td>...</td>\n",
              "    </tr>\n",
              "    <tr>\n",
              "      <th>2156</th>\n",
              "      <td>211965</td>\n",
              "      <td>Wired Headphones,USB-C Charging Cable</td>\n",
              "    </tr>\n",
              "    <tr>\n",
              "      <th>2162</th>\n",
              "      <td>211970</td>\n",
              "      <td>Google Phone,USB-C Charging Cable</td>\n",
              "    </tr>\n",
              "    <tr>\n",
              "      <th>2185</th>\n",
              "      <td>211992</td>\n",
              "      <td>iPhone,Lightning Charging Cable</td>\n",
              "    </tr>\n",
              "    <tr>\n",
              "      <th>2255</th>\n",
              "      <td>212061</td>\n",
              "      <td>USB-C Charging Cable,Wired Headphones</td>\n",
              "    </tr>\n",
              "    <tr>\n",
              "      <th>2302</th>\n",
              "      <td>212107</td>\n",
              "      <td>Bose SoundSport Headphones,Bose SoundSport Hea...</td>\n",
              "    </tr>\n",
              "  </tbody>\n",
              "</table>\n",
              "<p>100 rows × 2 columns</p>\n",
              "</div>"
            ],
            "text/plain": [
              "     Order ID                                            Grouped\n",
              "17     209938                            iPhone,Wired Headphones\n",
              "29     209949                  Google Phone,USB-C Charging Cable\n",
              "41     209960         USB-C Charging Cable,AA Batteries (4-pack)\n",
              "43     209961                    iPhone,Lightning Charging Cable\n",
              "147    210064          Lightning Charging Cable,27in FHD Monitor\n",
              "...       ...                                                ...\n",
              "2156   211965              Wired Headphones,USB-C Charging Cable\n",
              "2162   211970                  Google Phone,USB-C Charging Cable\n",
              "2185   211992                    iPhone,Lightning Charging Cable\n",
              "2255   212061              USB-C Charging Cable,Wired Headphones\n",
              "2302   212107  Bose SoundSport Headphones,Bose SoundSport Hea...\n",
              "\n",
              "[100 rows x 2 columns]"
            ]
          },
          "metadata": {},
          "execution_count": 247
        }
      ]
    },
    {
      "cell_type": "code",
      "metadata": {
        "colab": {
          "base_uri": "https://localhost:8080/"
        },
        "id": "mTztog_V8PkI",
        "outputId": "eb9d7f4e-293f-417a-ccd8-c44ac108f2af"
      },
      "source": [
        "from itertools import combinations\n",
        "from collections import Counter\n",
        "\n",
        "count = Counter()\n",
        "\n",
        "for row in df['Grouped']:\n",
        "  row_list = row.split(',')\n",
        "  count.update(Counter(combinations(row_list, 2)))   # most sold two product together\n",
        "\n",
        "for key, value in count.most_common(10):\n",
        "  print(key, value)\n"
      ],
      "execution_count": null,
      "outputs": [
        {
          "output_type": "stream",
          "name": "stdout",
          "text": [
            "('iPhone', 'Lightning Charging Cable') 1005\n",
            "('Google Phone', 'USB-C Charging Cable') 987\n",
            "('iPhone', 'Wired Headphones') 447\n",
            "('Google Phone', 'Wired Headphones') 414\n",
            "('Vareebadd Phone', 'USB-C Charging Cable') 361\n",
            "('iPhone', 'Apple Airpods Headphones') 360\n",
            "('Google Phone', 'Bose SoundSport Headphones') 220\n",
            "('USB-C Charging Cable', 'Wired Headphones') 160\n",
            "('Vareebadd Phone', 'Wired Headphones') 143\n",
            "('Lightning Charging Cable', 'Wired Headphones') 92\n"
          ]
        }
      ]
    },
    {
      "cell_type": "markdown",
      "metadata": {
        "id": "A9RyabPr6ekg"
      },
      "source": [
        "**Qustion 5: What product sold the most ? Why do you think it sold the most ?**"
      ]
    },
    {
      "cell_type": "code",
      "metadata": {
        "colab": {
          "base_uri": "https://localhost:8080/",
          "height": 310
        },
        "id": "0kGa3RhM9_YB",
        "outputId": "642884c6-a44e-4297-9b4d-bf428e0d7f75"
      },
      "source": [
        "all_data.head()"
      ],
      "execution_count": null,
      "outputs": [
        {
          "output_type": "execute_result",
          "data": {
            "text/html": [
              "<div>\n",
              "<style scoped>\n",
              "    .dataframe tbody tr th:only-of-type {\n",
              "        vertical-align: middle;\n",
              "    }\n",
              "\n",
              "    .dataframe tbody tr th {\n",
              "        vertical-align: top;\n",
              "    }\n",
              "\n",
              "    .dataframe thead th {\n",
              "        text-align: right;\n",
              "    }\n",
              "</style>\n",
              "<table border=\"1\" class=\"dataframe\">\n",
              "  <thead>\n",
              "    <tr style=\"text-align: right;\">\n",
              "      <th></th>\n",
              "      <th>Order ID</th>\n",
              "      <th>Product</th>\n",
              "      <th>Quantity Ordered</th>\n",
              "      <th>Price Each</th>\n",
              "      <th>Order Date</th>\n",
              "      <th>Purchase Address</th>\n",
              "      <th>Month</th>\n",
              "      <th>City</th>\n",
              "      <th>State</th>\n",
              "      <th>Sales</th>\n",
              "      <th>Hour</th>\n",
              "      <th>Minute</th>\n",
              "    </tr>\n",
              "  </thead>\n",
              "  <tbody>\n",
              "    <tr>\n",
              "      <th>0</th>\n",
              "      <td>209921</td>\n",
              "      <td>USB-C Charging Cable</td>\n",
              "      <td>1</td>\n",
              "      <td>11.95</td>\n",
              "      <td>2019-06-23 19:34:00</td>\n",
              "      <td>950 Walnut St, Portland, ME 04101</td>\n",
              "      <td>6</td>\n",
              "      <td>Portland</td>\n",
              "      <td>ME</td>\n",
              "      <td>11.95</td>\n",
              "      <td>19</td>\n",
              "      <td>34</td>\n",
              "    </tr>\n",
              "    <tr>\n",
              "      <th>1</th>\n",
              "      <td>209922</td>\n",
              "      <td>Macbook Pro Laptop</td>\n",
              "      <td>1</td>\n",
              "      <td>1700.00</td>\n",
              "      <td>2019-06-30 10:05:00</td>\n",
              "      <td>80 4th St, San Francisco, CA 94016</td>\n",
              "      <td>6</td>\n",
              "      <td>San Francisco</td>\n",
              "      <td>CA</td>\n",
              "      <td>1700.00</td>\n",
              "      <td>10</td>\n",
              "      <td>5</td>\n",
              "    </tr>\n",
              "    <tr>\n",
              "      <th>2</th>\n",
              "      <td>209923</td>\n",
              "      <td>ThinkPad Laptop</td>\n",
              "      <td>1</td>\n",
              "      <td>999.99</td>\n",
              "      <td>2019-06-24 20:18:00</td>\n",
              "      <td>402 Jackson St, Los Angeles, CA 90001</td>\n",
              "      <td>6</td>\n",
              "      <td>Los Angeles</td>\n",
              "      <td>CA</td>\n",
              "      <td>999.99</td>\n",
              "      <td>20</td>\n",
              "      <td>18</td>\n",
              "    </tr>\n",
              "    <tr>\n",
              "      <th>3</th>\n",
              "      <td>209924</td>\n",
              "      <td>27in FHD Monitor</td>\n",
              "      <td>1</td>\n",
              "      <td>149.99</td>\n",
              "      <td>2019-06-05 10:21:00</td>\n",
              "      <td>560 10th St, Seattle, WA 98101</td>\n",
              "      <td>6</td>\n",
              "      <td>Seattle</td>\n",
              "      <td>WA</td>\n",
              "      <td>149.99</td>\n",
              "      <td>10</td>\n",
              "      <td>21</td>\n",
              "    </tr>\n",
              "    <tr>\n",
              "      <th>4</th>\n",
              "      <td>209925</td>\n",
              "      <td>Bose SoundSport Headphones</td>\n",
              "      <td>1</td>\n",
              "      <td>99.99</td>\n",
              "      <td>2019-06-25 18:58:00</td>\n",
              "      <td>545 2nd St, San Francisco, CA 94016</td>\n",
              "      <td>6</td>\n",
              "      <td>San Francisco</td>\n",
              "      <td>CA</td>\n",
              "      <td>99.99</td>\n",
              "      <td>18</td>\n",
              "      <td>58</td>\n",
              "    </tr>\n",
              "  </tbody>\n",
              "</table>\n",
              "</div>"
            ],
            "text/plain": [
              "  Order ID                     Product  Quantity Ordered  ...    Sales Hour Minute\n",
              "0   209921        USB-C Charging Cable                 1  ...    11.95   19     34\n",
              "1   209922          Macbook Pro Laptop                 1  ...  1700.00   10      5\n",
              "2   209923             ThinkPad Laptop                 1  ...   999.99   20     18\n",
              "3   209924            27in FHD Monitor                 1  ...   149.99   10     21\n",
              "4   209925  Bose SoundSport Headphones                 1  ...    99.99   18     58\n",
              "\n",
              "[5 rows x 12 columns]"
            ]
          },
          "metadata": {},
          "execution_count": 257
        }
      ]
    },
    {
      "cell_type": "code",
      "metadata": {
        "colab": {
          "base_uri": "https://localhost:8080/",
          "height": 391
        },
        "id": "_Qtq5wRU6tIo",
        "outputId": "05acabe2-142a-48b5-f5d7-2fda0db710da"
      },
      "source": [
        "product_group = all_data.groupby('Product')\n",
        "quantity_ordered = product_group.sum()['Quantity Ordered']\n",
        "\n",
        "products = [product for product, df in product_group]\n",
        "\n",
        "plt.bar(products, quantity_ordered)\n",
        "plt.ylabel('Quantity Ordered')\n",
        "plt.xlabel('Name of product')\n",
        "plt.xticks(products, rotation = 'vertical', size = 8)\n",
        "plt.show()"
      ],
      "execution_count": null,
      "outputs": [
        {
          "output_type": "display_data",
          "data": {
            "image/png": "[encoded data removed]",
            "text/plain": [
              "<Figure size 432x288 with 1 Axes>"
            ]
          },
          "metadata": {
            "needs_background": "light"
          }
        }
      ]
    },
    {
      "cell_type": "code",
      "metadata": {
        "colab": {
          "base_uri": "https://localhost:8080/",
          "height": 391
        },
        "id": "o68pYm-pAfPH",
        "outputId": "2d0cb8a7-a6a7-4d8a-df24-c448b3be0c47"
      },
      "source": [
        "prices = all_data.groupby('Product').mean()['Price Each']\n",
        "\n",
        "fig, ax1 = plt.subplots()\n",
        "\n",
        "ax2 = ax1.twinx()\n",
        "ax1.bar(products, quantity_ordered, color='g')\n",
        "ax2.plot(products, prices, 'b-')\n",
        "\n",
        "ax1.set_xlabel('Product Name')\n",
        "ax1.set_ylabel('Quantity Ordered', color = 'g')\n",
        "ax2.set_ylabel('price($)', color = 'b')\n",
        "ax1.set_xticklabels(products, rotation='vertical', size=8)\n",
        "\n",
        "plt.show()\n"
      ],
      "execution_count": null,
      "outputs": [
        {
          "output_type": "display_data",
          "data": {
            "image/png": "[encoded data removed]",
            "text/plain": [
              "<Figure size 432x288 with 2 Axes>"
            ]
          },
          "metadata": {
            "needs_background": "light"
          }
        }
      ]
    }
  ]
}